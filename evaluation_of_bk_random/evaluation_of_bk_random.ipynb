{
 "cells": [
  {
   "cell_type": "markdown",
   "metadata": {},
   "source": [
    "### Testing library bk_random from www.python-course.eu/bk_random.py"
   ]
  },
  {
   "cell_type": "markdown",
   "metadata": {},
   "source": [
    "The following generator (from http://www.python-course.eu/synthetical_test_data_with_python.php)\n",
    "is added to the library bk_random in order to utilize the methods for efficient sampling."
   ]
  },
  {
   "cell_type": "code",
   "execution_count": 1,
   "metadata": {
    "collapsed": true
   },
   "outputs": [],
   "source": [
    "import bk_random\n",
    "\n",
    "def synthesiser(data, weights=None, format_function=None, repeats=True):\n",
    "    # If no repeats of items in the result\n",
    "    if not repeats:\n",
    "        memory = set()\n",
    "\n",
    "    def choice(data, weights):\n",
    "        if weights:\n",
    "            return bk_random.weighted_cartesian_choice(*zip(data, weights))\n",
    "        else:\n",
    "            return bk_random.cartesian_choice(*data)\n",
    "\n",
    "    # Creates an iterable\n",
    "    def synthesise():\n",
    "        while True:\n",
    "            res = choice(data, weights)\n",
    "            if not repeats:\n",
    "                sres = str(res)\n",
    "                while sres in memory:\n",
    "                    res = choice(data, weights)\n",
    "                    sres = str(res)\n",
    "                memory.add(sres)\n",
    "            if format_function:\n",
    "                yield format_function(res)\n",
    "            else:\n",
    "                yield res\n",
    "    return synthesise()"
   ]
  },
  {
   "cell_type": "code",
   "execution_count": 2,
   "metadata": {
    "collapsed": true
   },
   "outputs": [],
   "source": [
    "# Variables:\n",
    "\n",
    "dataset_path = 'student-mat.csv'"
   ]
  },
  {
   "cell_type": "code",
   "execution_count": 3,
   "metadata": {},
   "outputs": [
    {
     "data": {
      "image/png": "[encoded data removed]",
      "text/plain": [
       "<matplotlib.figure.Figure at 0x2189788ac50>"
      ]
     },
     "metadata": {},
     "output_type": "display_data"
    }
   ],
   "source": [
    "import pandas as pd\n",
    "import matplotlib.pyplot as plt\n",
    "performance_data = pd.read_csv(dataset_path, sep=';')\n",
    "\n",
    "# Plots a correlation matrix\n",
    "def corrplot(corrmat):\n",
    "    plt.pcolor(corrmat)\n",
    "    plt.colorbar()\n",
    "    plt.show()\n",
    "\n",
    "# Let's look at the desired correlation matrix from the original dataset\n",
    "corrplot(performance_data.corr())"
   ]
  },
  {
   "cell_type": "code",
   "execution_count": 4,
   "metadata": {},
   "outputs": [
    {
     "data": {
      "image/png": "[encoded data removed]",
      "text/plain": [
       "<matplotlib.figure.Figure at 0x21895157c50>"
      ]
     },
     "metadata": {},
     "output_type": "display_data"
    }
   ],
   "source": [
    "from numpy import int64, dtype, shape\n",
    "import csv\n",
    "\n",
    "# Creating input to the sampling algorithm\n",
    "data_sets = tuple()\n",
    "weights = tuple()\n",
    "for col in performance_data:\n",
    "    frequency_dict = performance_data[col].value_counts().to_dict()\n",
    "    # unique values from original dataset as sampling input\n",
    "    values = list(frequency_dict.keys())\n",
    "    frequencies = frequency_dict.values()\n",
    "    # frequency in range [0, 1] as weights\n",
    "    weights = weights + ([frequency/sum(frequencies) for frequency in frequencies],)\n",
    "    data_sets = data_sets + (values,)\n",
    "\n",
    "# Creating the sampler from bk_random\n",
    "sampler = synthesiser(data=data_sets, weights=weights, repeats=True)\n",
    "\n",
    "# Making a list of rows as long as the original dataset\n",
    "li = []\n",
    "for i in range(shape(performance_data)[0]):\n",
    "    li.append(next(sampler))\n",
    "\n",
    "s_data = pd.DataFrame(li, columns=performance_data.columns)\n",
    "\n",
    "# The correlation matrix of the synthetic data\n",
    "corrplot(s_data.corr())"
   ]
  },
  {
   "cell_type": "code",
   "execution_count": 5,
   "metadata": {},
   "outputs": [
    {
     "data": {
      "image/png": "[encoded data removed]",
      "text/plain": [
       "<matplotlib.figure.Figure at 0x21898636c18>"
      ]
     },
     "metadata": {},
     "output_type": "display_data"
    }
   ],
   "source": [
    "# Let's look at the difference between the correlation matrices\n",
    "\n",
    "corr_original = performance_data.corr()\n",
    "corr_samples = s_data.corr()\n",
    "\n",
    "diff_mat = corr_original.subtract(corr_samples)\n",
    "\n",
    "corrplot(diff_mat)"
   ]
  },
  {
   "cell_type": "markdown",
   "metadata": {},
   "source": [
    "In the plot above we see that the correlations in the top right corner of the original orrelation matrix is still present, and thus is not present in the synthetic dataset.\n",
    "\n",
    "Ideally the matrix should be the same colour as the diagonal from the bottom left corner to the top right corner (0.0).\n",
    "\n",
    "We conclude that the library bk_random is not useful if correlation must be preserved. "
   ]
  }
 ],
 "metadata": {
  "kernelspec": {
   "display_name": "Python 3",
   "language": "python",
   "name": "python3"
  },
  "language_info": {
   "codemirror_mode": {
    "name": "ipython",
    "version": 3
   },
   "file_extension": ".py",
   "mimetype": "text/x-python",
   "name": "python",
   "nbconvert_exporter": "python",
   "pygments_lexer": "ipython3",
   "version": "3.6.1"
  }
 },
 "nbformat": 4,
 "nbformat_minor": 2
}
